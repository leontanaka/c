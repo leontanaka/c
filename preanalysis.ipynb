{
 "cells": [
  {
   "cell_type": "code",
   "execution_count": 2,
   "metadata": {},
   "outputs": [],
   "source": [
    "import pandas as pd\n",
    "import matplotlib.pyplot as plt\n",
    "from mpl_toolkits.mplot3d import Axes3D\n",
    "import numpy as np\n",
    "from sklearn import linear_model"
   ]
  },
  {
   "cell_type": "code",
   "execution_count": 3,
   "metadata": {},
   "outputs": [],
   "source": [
    "data = pd.read_csv('data-FPBfZ.csv')"
   ]
  },
  {
   "cell_type": "code",
   "execution_count": 4,
   "metadata": {},
   "outputs": [
    {
     "data": {
      "text/plain": [
       "3142"
      ]
     },
     "execution_count": 4,
     "metadata": {},
     "output_type": "execute_result"
    }
   ],
   "source": [
    "len(data)"
   ]
  },
  {
   "cell_type": "code",
   "execution_count": 5,
   "metadata": {},
   "outputs": [
    {
     "data": {
      "text/html": [
       "<div>\n",
       "<style scoped>\n",
       "    .dataframe tbody tr th:only-of-type {\n",
       "        vertical-align: middle;\n",
       "    }\n",
       "\n",
       "    .dataframe tbody tr th {\n",
       "        vertical-align: top;\n",
       "    }\n",
       "\n",
       "    .dataframe thead th {\n",
       "        text-align: right;\n",
       "    }\n",
       "</style>\n",
       "<table border=\"1\" class=\"dataframe\">\n",
       "  <thead>\n",
       "    <tr style=\"text-align: right;\">\n",
       "      <th></th>\n",
       "      <th>State</th>\n",
       "      <th>County</th>\n",
       "      <th>ICU Beds</th>\n",
       "      <th>Total Population</th>\n",
       "      <th>Population Aged 60+</th>\n",
       "      <th>Percent of Population Aged 60+</th>\n",
       "      <th>Residents Aged 60+ Per Each ICU Bed</th>\n",
       "    </tr>\n",
       "  </thead>\n",
       "  <tbody>\n",
       "    <tr>\n",
       "      <th>0</th>\n",
       "      <td>Alabama</td>\n",
       "      <td>Autauga</td>\n",
       "      <td>6</td>\n",
       "      <td>55036</td>\n",
       "      <td>10523</td>\n",
       "      <td>19.1</td>\n",
       "      <td>1754.0</td>\n",
       "    </tr>\n",
       "    <tr>\n",
       "      <th>1</th>\n",
       "      <td>Alabama</td>\n",
       "      <td>Baldwin</td>\n",
       "      <td>51</td>\n",
       "      <td>203360</td>\n",
       "      <td>53519</td>\n",
       "      <td>26.3</td>\n",
       "      <td>1049.0</td>\n",
       "    </tr>\n",
       "    <tr>\n",
       "      <th>2</th>\n",
       "      <td>Alabama</td>\n",
       "      <td>Barbour</td>\n",
       "      <td>5</td>\n",
       "      <td>26201</td>\n",
       "      <td>6150</td>\n",
       "      <td>23.5</td>\n",
       "      <td>1230.0</td>\n",
       "    </tr>\n",
       "    <tr>\n",
       "      <th>3</th>\n",
       "      <td>Alabama</td>\n",
       "      <td>Bibb</td>\n",
       "      <td>0</td>\n",
       "      <td>22580</td>\n",
       "      <td>4773</td>\n",
       "      <td>21.1</td>\n",
       "      <td>NaN</td>\n",
       "    </tr>\n",
       "    <tr>\n",
       "      <th>4</th>\n",
       "      <td>Alabama</td>\n",
       "      <td>Blount</td>\n",
       "      <td>6</td>\n",
       "      <td>57667</td>\n",
       "      <td>13600</td>\n",
       "      <td>23.6</td>\n",
       "      <td>2267.0</td>\n",
       "    </tr>\n",
       "  </tbody>\n",
       "</table>\n",
       "</div>"
      ],
      "text/plain": [
       "     State   County  ICU Beds  Total Population  Population Aged 60+  \\\n",
       "0  Alabama  Autauga         6             55036                10523   \n",
       "1  Alabama  Baldwin        51            203360                53519   \n",
       "2  Alabama  Barbour         5             26201                 6150   \n",
       "3  Alabama     Bibb         0             22580                 4773   \n",
       "4  Alabama   Blount         6             57667                13600   \n",
       "\n",
       "   Percent of Population Aged 60+  Residents Aged 60+ Per Each ICU Bed  \n",
       "0                            19.1                               1754.0  \n",
       "1                            26.3                               1049.0  \n",
       "2                            23.5                               1230.0  \n",
       "3                            21.1                                  NaN  \n",
       "4                            23.6                               2267.0  "
      ]
     },
     "execution_count": 5,
     "metadata": {},
     "output_type": "execute_result"
    }
   ],
   "source": [
    "data.head(5)"
   ]
  },
  {
   "cell_type": "code",
   "execution_count": 6,
   "metadata": {},
   "outputs": [],
   "source": [
    "data=data.groupby(['State']).sum()"
   ]
  },
  {
   "cell_type": "code",
   "execution_count": 7,
   "metadata": {},
   "outputs": [
    {
     "data": {
      "text/plain": [
       "51"
      ]
     },
     "execution_count": 7,
     "metadata": {},
     "output_type": "execute_result"
    }
   ],
   "source": [
    "len(data)"
   ]
  },
  {
   "cell_type": "code",
   "execution_count": 8,
   "metadata": {},
   "outputs": [
    {
     "data": {
      "text/html": [
       "<div>\n",
       "<style scoped>\n",
       "    .dataframe tbody tr th:only-of-type {\n",
       "        vertical-align: middle;\n",
       "    }\n",
       "\n",
       "    .dataframe tbody tr th {\n",
       "        vertical-align: top;\n",
       "    }\n",
       "\n",
       "    .dataframe thead th {\n",
       "        text-align: right;\n",
       "    }\n",
       "</style>\n",
       "<table border=\"1\" class=\"dataframe\">\n",
       "  <thead>\n",
       "    <tr style=\"text-align: right;\">\n",
       "      <th></th>\n",
       "      <th>ICU Beds</th>\n",
       "      <th>Total Population</th>\n",
       "      <th>Population Aged 60+</th>\n",
       "      <th>Percent of Population Aged 60+</th>\n",
       "      <th>Residents Aged 60+ Per Each ICU Bed</th>\n",
       "    </tr>\n",
       "    <tr>\n",
       "      <th>State</th>\n",
       "      <th></th>\n",
       "      <th></th>\n",
       "      <th></th>\n",
       "      <th></th>\n",
       "      <th></th>\n",
       "    </tr>\n",
       "  </thead>\n",
       "  <tbody>\n",
       "    <tr>\n",
       "      <th>Alabama</th>\n",
       "      <td>1533</td>\n",
       "      <td>4850771</td>\n",
       "      <td>1065625</td>\n",
       "      <td>1598.7</td>\n",
       "      <td>53854.0</td>\n",
       "    </tr>\n",
       "    <tr>\n",
       "      <th>Alaska</th>\n",
       "      <td>119</td>\n",
       "      <td>738565</td>\n",
       "      <td>117047</td>\n",
       "      <td>519.9</td>\n",
       "      <td>6424.0</td>\n",
       "    </tr>\n",
       "    <tr>\n",
       "      <th>Arizona</th>\n",
       "      <td>1559</td>\n",
       "      <td>6809946</td>\n",
       "      <td>1502688</td>\n",
       "      <td>390.7</td>\n",
       "      <td>21304.0</td>\n",
       "    </tr>\n",
       "    <tr>\n",
       "      <th>Arkansas</th>\n",
       "      <td>732</td>\n",
       "      <td>2977944</td>\n",
       "      <td>655552</td>\n",
       "      <td>1899.9</td>\n",
       "      <td>27536.0</td>\n",
       "    </tr>\n",
       "    <tr>\n",
       "      <th>California</th>\n",
       "      <td>7338</td>\n",
       "      <td>38982847</td>\n",
       "      <td>7292299</td>\n",
       "      <td>1344.7</td>\n",
       "      <td>68758.0</td>\n",
       "    </tr>\n",
       "  </tbody>\n",
       "</table>\n",
       "</div>"
      ],
      "text/plain": [
       "            ICU Beds  Total Population  Population Aged 60+  \\\n",
       "State                                                         \n",
       "Alabama         1533           4850771              1065625   \n",
       "Alaska           119            738565               117047   \n",
       "Arizona         1559           6809946              1502688   \n",
       "Arkansas         732           2977944               655552   \n",
       "California      7338          38982847              7292299   \n",
       "\n",
       "            Percent of Population Aged 60+  \\\n",
       "State                                        \n",
       "Alabama                             1598.7   \n",
       "Alaska                               519.9   \n",
       "Arizona                              390.7   \n",
       "Arkansas                            1899.9   \n",
       "California                          1344.7   \n",
       "\n",
       "            Residents Aged 60+ Per Each ICU Bed  \n",
       "State                                            \n",
       "Alabama                                 53854.0  \n",
       "Alaska                                   6424.0  \n",
       "Arizona                                 21304.0  \n",
       "Arkansas                                27536.0  \n",
       "California                              68758.0  "
      ]
     },
     "execution_count": 8,
     "metadata": {},
     "output_type": "execute_result"
    }
   ],
   "source": [
    "data.head(5)"
   ]
  },
  {
   "cell_type": "code",
   "execution_count": 9,
   "metadata": {},
   "outputs": [],
   "source": [
    "data.iloc[:,3] = data.iloc[:,2]/data.iloc[:,1]"
   ]
  },
  {
   "cell_type": "code",
   "execution_count": 10,
   "metadata": {},
   "outputs": [],
   "source": [
    "data.iloc[:,4] = data.iloc[:,2]/data.iloc[:,0]"
   ]
  },
  {
   "cell_type": "code",
   "execution_count": 11,
   "metadata": {},
   "outputs": [
    {
     "data": {
      "text/plain": [
       "[<matplotlib.lines.Line2D at 0x1075448d0>]"
      ]
     },
     "execution_count": 11,
     "metadata": {},
     "output_type": "execute_result"
    },
    {
     "data": {
      "image/png": "[encoded data removed]",
      "text/plain": [
       "<Figure size 432x288 with 1 Axes>"
      ]
     },
     "metadata": {
      "needs_background": "light"
     },
     "output_type": "display_data"
    }
   ],
   "source": [
    "plt.plot(data.iloc[:,1],data.iloc[:,0],'*') # beds over total population"
   ]
  },
  {
   "cell_type": "code",
   "execution_count": 12,
   "metadata": {},
   "outputs": [],
   "source": [
    "death = pd.read_csv('covid-19-data-master/us-states.csv')"
   ]
  },
  {
   "cell_type": "code",
   "execution_count": 13,
   "metadata": {},
   "outputs": [
    {
     "data": {
      "text/html": [
       "<div>\n",
       "<style scoped>\n",
       "    .dataframe tbody tr th:only-of-type {\n",
       "        vertical-align: middle;\n",
       "    }\n",
       "\n",
       "    .dataframe tbody tr th {\n",
       "        vertical-align: top;\n",
       "    }\n",
       "\n",
       "    .dataframe thead th {\n",
       "        text-align: right;\n",
       "    }\n",
       "</style>\n",
       "<table border=\"1\" class=\"dataframe\">\n",
       "  <thead>\n",
       "    <tr style=\"text-align: right;\">\n",
       "      <th></th>\n",
       "      <th>date</th>\n",
       "      <th>state</th>\n",
       "      <th>fips</th>\n",
       "      <th>cases</th>\n",
       "      <th>deaths</th>\n",
       "    </tr>\n",
       "  </thead>\n",
       "  <tbody>\n",
       "    <tr>\n",
       "      <th>0</th>\n",
       "      <td>2020-01-21</td>\n",
       "      <td>Washington</td>\n",
       "      <td>53</td>\n",
       "      <td>1</td>\n",
       "      <td>0</td>\n",
       "    </tr>\n",
       "    <tr>\n",
       "      <th>1</th>\n",
       "      <td>2020-01-22</td>\n",
       "      <td>Washington</td>\n",
       "      <td>53</td>\n",
       "      <td>1</td>\n",
       "      <td>0</td>\n",
       "    </tr>\n",
       "    <tr>\n",
       "      <th>2</th>\n",
       "      <td>2020-01-23</td>\n",
       "      <td>Washington</td>\n",
       "      <td>53</td>\n",
       "      <td>1</td>\n",
       "      <td>0</td>\n",
       "    </tr>\n",
       "    <tr>\n",
       "      <th>3</th>\n",
       "      <td>2020-01-24</td>\n",
       "      <td>Illinois</td>\n",
       "      <td>17</td>\n",
       "      <td>1</td>\n",
       "      <td>0</td>\n",
       "    </tr>\n",
       "    <tr>\n",
       "      <th>4</th>\n",
       "      <td>2020-01-24</td>\n",
       "      <td>Washington</td>\n",
       "      <td>53</td>\n",
       "      <td>1</td>\n",
       "      <td>0</td>\n",
       "    </tr>\n",
       "    <tr>\n",
       "      <th>...</th>\n",
       "      <td>...</td>\n",
       "      <td>...</td>\n",
       "      <td>...</td>\n",
       "      <td>...</td>\n",
       "      <td>...</td>\n",
       "    </tr>\n",
       "    <tr>\n",
       "      <th>3089</th>\n",
       "      <td>2020-04-27</td>\n",
       "      <td>Virginia</td>\n",
       "      <td>51</td>\n",
       "      <td>13535</td>\n",
       "      <td>458</td>\n",
       "    </tr>\n",
       "    <tr>\n",
       "      <th>3090</th>\n",
       "      <td>2020-04-27</td>\n",
       "      <td>Washington</td>\n",
       "      <td>53</td>\n",
       "      <td>13864</td>\n",
       "      <td>771</td>\n",
       "    </tr>\n",
       "    <tr>\n",
       "      <th>3091</th>\n",
       "      <td>2020-04-27</td>\n",
       "      <td>West Virginia</td>\n",
       "      <td>54</td>\n",
       "      <td>1077</td>\n",
       "      <td>37</td>\n",
       "    </tr>\n",
       "    <tr>\n",
       "      <th>3092</th>\n",
       "      <td>2020-04-27</td>\n",
       "      <td>Wisconsin</td>\n",
       "      <td>55</td>\n",
       "      <td>6081</td>\n",
       "      <td>281</td>\n",
       "    </tr>\n",
       "    <tr>\n",
       "      <th>3093</th>\n",
       "      <td>2020-04-27</td>\n",
       "      <td>Wyoming</td>\n",
       "      <td>56</td>\n",
       "      <td>389</td>\n",
       "      <td>7</td>\n",
       "    </tr>\n",
       "  </tbody>\n",
       "</table>\n",
       "<p>3094 rows × 5 columns</p>\n",
       "</div>"
      ],
      "text/plain": [
       "            date          state  fips  cases  deaths\n",
       "0     2020-01-21     Washington    53      1       0\n",
       "1     2020-01-22     Washington    53      1       0\n",
       "2     2020-01-23     Washington    53      1       0\n",
       "3     2020-01-24       Illinois    17      1       0\n",
       "4     2020-01-24     Washington    53      1       0\n",
       "...          ...            ...   ...    ...     ...\n",
       "3089  2020-04-27       Virginia    51  13535     458\n",
       "3090  2020-04-27     Washington    53  13864     771\n",
       "3091  2020-04-27  West Virginia    54   1077      37\n",
       "3092  2020-04-27      Wisconsin    55   6081     281\n",
       "3093  2020-04-27        Wyoming    56    389       7\n",
       "\n",
       "[3094 rows x 5 columns]"
      ]
     },
     "execution_count": 13,
     "metadata": {},
     "output_type": "execute_result"
    }
   ],
   "source": [
    "death"
   ]
  },
  {
   "cell_type": "code",
   "execution_count": 14,
   "metadata": {},
   "outputs": [],
   "source": [
    "death=death.groupby('date').get_group('2020-04-27')"
   ]
  },
  {
   "cell_type": "code",
   "execution_count": 15,
   "metadata": {},
   "outputs": [],
   "source": [
    "del death['date']\n",
    "del death['fips']"
   ]
  },
  {
   "cell_type": "code",
   "execution_count": 16,
   "metadata": {},
   "outputs": [
    {
     "data": {
      "text/html": [
       "<div>\n",
       "<style scoped>\n",
       "    .dataframe tbody tr th:only-of-type {\n",
       "        vertical-align: middle;\n",
       "    }\n",
       "\n",
       "    .dataframe tbody tr th {\n",
       "        vertical-align: top;\n",
       "    }\n",
       "\n",
       "    .dataframe thead th {\n",
       "        text-align: right;\n",
       "    }\n",
       "</style>\n",
       "<table border=\"1\" class=\"dataframe\">\n",
       "  <thead>\n",
       "    <tr style=\"text-align: right;\">\n",
       "      <th></th>\n",
       "      <th>cases</th>\n",
       "      <th>deaths</th>\n",
       "    </tr>\n",
       "    <tr>\n",
       "      <th>state</th>\n",
       "      <th></th>\n",
       "      <th></th>\n",
       "    </tr>\n",
       "  </thead>\n",
       "  <tbody>\n",
       "    <tr>\n",
       "      <th>Alabama</th>\n",
       "      <td>6539</td>\n",
       "      <td>228</td>\n",
       "    </tr>\n",
       "    <tr>\n",
       "      <th>Alaska</th>\n",
       "      <td>343</td>\n",
       "      <td>7</td>\n",
       "    </tr>\n",
       "    <tr>\n",
       "      <th>Arizona</th>\n",
       "      <td>6716</td>\n",
       "      <td>277</td>\n",
       "    </tr>\n",
       "    <tr>\n",
       "      <th>Arkansas</th>\n",
       "      <td>3069</td>\n",
       "      <td>51</td>\n",
       "    </tr>\n",
       "    <tr>\n",
       "      <th>California</th>\n",
       "      <td>45208</td>\n",
       "      <td>1800</td>\n",
       "    </tr>\n",
       "    <tr>\n",
       "      <th>Colorado</th>\n",
       "      <td>13804</td>\n",
       "      <td>705</td>\n",
       "    </tr>\n",
       "    <tr>\n",
       "      <th>Connecticut</th>\n",
       "      <td>25997</td>\n",
       "      <td>2012</td>\n",
       "    </tr>\n",
       "    <tr>\n",
       "      <th>Delaware</th>\n",
       "      <td>4162</td>\n",
       "      <td>125</td>\n",
       "    </tr>\n",
       "    <tr>\n",
       "      <th>District of Columbia</th>\n",
       "      <td>3892</td>\n",
       "      <td>185</td>\n",
       "    </tr>\n",
       "    <tr>\n",
       "      <th>Florida</th>\n",
       "      <td>32130</td>\n",
       "      <td>1087</td>\n",
       "    </tr>\n",
       "    <tr>\n",
       "      <th>Georgia</th>\n",
       "      <td>23229</td>\n",
       "      <td>981</td>\n",
       "    </tr>\n",
       "    <tr>\n",
       "      <th>Guam</th>\n",
       "      <td>1000</td>\n",
       "      <td>6</td>\n",
       "    </tr>\n",
       "    <tr>\n",
       "      <th>Hawaii</th>\n",
       "      <td>600</td>\n",
       "      <td>16</td>\n",
       "    </tr>\n",
       "    <tr>\n",
       "      <th>Idaho</th>\n",
       "      <td>1785</td>\n",
       "      <td>58</td>\n",
       "    </tr>\n",
       "    <tr>\n",
       "      <th>Illinois</th>\n",
       "      <td>45883</td>\n",
       "      <td>1992</td>\n",
       "    </tr>\n",
       "    <tr>\n",
       "      <th>Indiana</th>\n",
       "      <td>15961</td>\n",
       "      <td>844</td>\n",
       "    </tr>\n",
       "    <tr>\n",
       "      <th>Iowa</th>\n",
       "      <td>5868</td>\n",
       "      <td>127</td>\n",
       "    </tr>\n",
       "    <tr>\n",
       "      <th>Kansas</th>\n",
       "      <td>3393</td>\n",
       "      <td>126</td>\n",
       "    </tr>\n",
       "    <tr>\n",
       "      <th>Kentucky</th>\n",
       "      <td>4146</td>\n",
       "      <td>216</td>\n",
       "    </tr>\n",
       "    <tr>\n",
       "      <th>Louisiana</th>\n",
       "      <td>27068</td>\n",
       "      <td>1697</td>\n",
       "    </tr>\n",
       "    <tr>\n",
       "      <th>Maine</th>\n",
       "      <td>1023</td>\n",
       "      <td>51</td>\n",
       "    </tr>\n",
       "    <tr>\n",
       "      <th>Maryland</th>\n",
       "      <td>19487</td>\n",
       "      <td>858</td>\n",
       "    </tr>\n",
       "    <tr>\n",
       "      <th>Massachusetts</th>\n",
       "      <td>56462</td>\n",
       "      <td>3003</td>\n",
       "    </tr>\n",
       "    <tr>\n",
       "      <th>Michigan</th>\n",
       "      <td>38190</td>\n",
       "      <td>3406</td>\n",
       "    </tr>\n",
       "    <tr>\n",
       "      <th>Minnesota</th>\n",
       "      <td>3816</td>\n",
       "      <td>286</td>\n",
       "    </tr>\n",
       "    <tr>\n",
       "      <th>Mississippi</th>\n",
       "      <td>6094</td>\n",
       "      <td>229</td>\n",
       "    </tr>\n",
       "    <tr>\n",
       "      <th>Missouri</th>\n",
       "      <td>7171</td>\n",
       "      <td>296</td>\n",
       "    </tr>\n",
       "    <tr>\n",
       "      <th>Montana</th>\n",
       "      <td>449</td>\n",
       "      <td>14</td>\n",
       "    </tr>\n",
       "    <tr>\n",
       "      <th>Nebraska</th>\n",
       "      <td>3487</td>\n",
       "      <td>55</td>\n",
       "    </tr>\n",
       "    <tr>\n",
       "      <th>Nevada</th>\n",
       "      <td>4708</td>\n",
       "      <td>219</td>\n",
       "    </tr>\n",
       "    <tr>\n",
       "      <th>New Hampshire</th>\n",
       "      <td>1938</td>\n",
       "      <td>60</td>\n",
       "    </tr>\n",
       "    <tr>\n",
       "      <th>New Jersey</th>\n",
       "      <td>111188</td>\n",
       "      <td>6044</td>\n",
       "    </tr>\n",
       "    <tr>\n",
       "      <th>New Mexico</th>\n",
       "      <td>2825</td>\n",
       "      <td>104</td>\n",
       "    </tr>\n",
       "    <tr>\n",
       "      <th>New York</th>\n",
       "      <td>292027</td>\n",
       "      <td>17303</td>\n",
       "    </tr>\n",
       "    <tr>\n",
       "      <th>North Carolina</th>\n",
       "      <td>9142</td>\n",
       "      <td>331</td>\n",
       "    </tr>\n",
       "    <tr>\n",
       "      <th>North Dakota</th>\n",
       "      <td>942</td>\n",
       "      <td>19</td>\n",
       "    </tr>\n",
       "    <tr>\n",
       "      <th>Northern Mariana Islands</th>\n",
       "      <td>14</td>\n",
       "      <td>2</td>\n",
       "    </tr>\n",
       "    <tr>\n",
       "      <th>Ohio</th>\n",
       "      <td>16325</td>\n",
       "      <td>753</td>\n",
       "    </tr>\n",
       "    <tr>\n",
       "      <th>Oklahoma</th>\n",
       "      <td>3280</td>\n",
       "      <td>197</td>\n",
       "    </tr>\n",
       "    <tr>\n",
       "      <th>Oregon</th>\n",
       "      <td>2354</td>\n",
       "      <td>92</td>\n",
       "    </tr>\n",
       "    <tr>\n",
       "      <th>Pennsylvania</th>\n",
       "      <td>43728</td>\n",
       "      <td>1946</td>\n",
       "    </tr>\n",
       "    <tr>\n",
       "      <th>Puerto Rico</th>\n",
       "      <td>1388</td>\n",
       "      <td>53</td>\n",
       "    </tr>\n",
       "    <tr>\n",
       "      <th>Rhode Island</th>\n",
       "      <td>7708</td>\n",
       "      <td>233</td>\n",
       "    </tr>\n",
       "    <tr>\n",
       "      <th>South Carolina</th>\n",
       "      <td>5613</td>\n",
       "      <td>177</td>\n",
       "    </tr>\n",
       "    <tr>\n",
       "      <th>South Dakota</th>\n",
       "      <td>2246</td>\n",
       "      <td>11</td>\n",
       "    </tr>\n",
       "    <tr>\n",
       "      <th>Tennessee</th>\n",
       "      <td>9796</td>\n",
       "      <td>192</td>\n",
       "    </tr>\n",
       "    <tr>\n",
       "      <th>Texas</th>\n",
       "      <td>25960</td>\n",
       "      <td>699</td>\n",
       "    </tr>\n",
       "    <tr>\n",
       "      <th>Utah</th>\n",
       "      <td>4236</td>\n",
       "      <td>41</td>\n",
       "    </tr>\n",
       "    <tr>\n",
       "      <th>Vermont</th>\n",
       "      <td>855</td>\n",
       "      <td>47</td>\n",
       "    </tr>\n",
       "    <tr>\n",
       "      <th>Virgin Islands</th>\n",
       "      <td>59</td>\n",
       "      <td>4</td>\n",
       "    </tr>\n",
       "    <tr>\n",
       "      <th>Virginia</th>\n",
       "      <td>13535</td>\n",
       "      <td>458</td>\n",
       "    </tr>\n",
       "    <tr>\n",
       "      <th>Washington</th>\n",
       "      <td>13864</td>\n",
       "      <td>771</td>\n",
       "    </tr>\n",
       "    <tr>\n",
       "      <th>West Virginia</th>\n",
       "      <td>1077</td>\n",
       "      <td>37</td>\n",
       "    </tr>\n",
       "    <tr>\n",
       "      <th>Wisconsin</th>\n",
       "      <td>6081</td>\n",
       "      <td>281</td>\n",
       "    </tr>\n",
       "    <tr>\n",
       "      <th>Wyoming</th>\n",
       "      <td>389</td>\n",
       "      <td>7</td>\n",
       "    </tr>\n",
       "  </tbody>\n",
       "</table>\n",
       "</div>"
      ],
      "text/plain": [
       "                           cases  deaths\n",
       "state                                   \n",
       "Alabama                     6539     228\n",
       "Alaska                       343       7\n",
       "Arizona                     6716     277\n",
       "Arkansas                    3069      51\n",
       "California                 45208    1800\n",
       "Colorado                   13804     705\n",
       "Connecticut                25997    2012\n",
       "Delaware                    4162     125\n",
       "District of Columbia        3892     185\n",
       "Florida                    32130    1087\n",
       "Georgia                    23229     981\n",
       "Guam                        1000       6\n",
       "Hawaii                       600      16\n",
       "Idaho                       1785      58\n",
       "Illinois                   45883    1992\n",
       "Indiana                    15961     844\n",
       "Iowa                        5868     127\n",
       "Kansas                      3393     126\n",
       "Kentucky                    4146     216\n",
       "Louisiana                  27068    1697\n",
       "Maine                       1023      51\n",
       "Maryland                   19487     858\n",
       "Massachusetts              56462    3003\n",
       "Michigan                   38190    3406\n",
       "Minnesota                   3816     286\n",
       "Mississippi                 6094     229\n",
       "Missouri                    7171     296\n",
       "Montana                      449      14\n",
       "Nebraska                    3487      55\n",
       "Nevada                      4708     219\n",
       "New Hampshire               1938      60\n",
       "New Jersey                111188    6044\n",
       "New Mexico                  2825     104\n",
       "New York                  292027   17303\n",
       "North Carolina              9142     331\n",
       "North Dakota                 942      19\n",
       "Northern Mariana Islands      14       2\n",
       "Ohio                       16325     753\n",
       "Oklahoma                    3280     197\n",
       "Oregon                      2354      92\n",
       "Pennsylvania               43728    1946\n",
       "Puerto Rico                 1388      53\n",
       "Rhode Island                7708     233\n",
       "South Carolina              5613     177\n",
       "South Dakota                2246      11\n",
       "Tennessee                   9796     192\n",
       "Texas                      25960     699\n",
       "Utah                        4236      41\n",
       "Vermont                      855      47\n",
       "Virgin Islands                59       4\n",
       "Virginia                   13535     458\n",
       "Washington                 13864     771\n",
       "West Virginia               1077      37\n",
       "Wisconsin                   6081     281\n",
       "Wyoming                      389       7"
      ]
     },
     "execution_count": 16,
     "metadata": {},
     "output_type": "execute_result"
    }
   ],
   "source": [
    "death.set_index(['state'], inplace=True)\n",
    "death"
   ]
  },
  {
   "cell_type": "code",
   "execution_count": 17,
   "metadata": {},
   "outputs": [
    {
     "name": "stderr",
     "output_type": "stream",
     "text": [
      "/Library/Frameworks/Python.framework/Versions/3.6/lib/python3.6/site-packages/pandas/core/indexing.py:965: SettingWithCopyWarning: \n",
      "A value is trying to be set on a copy of a slice from a DataFrame.\n",
      "Try using .loc[row_indexer,col_indexer] = value instead\n",
      "\n",
      "See the caveats in the documentation: https://pandas.pydata.org/pandas-docs/stable/user_guide/indexing.html#returning-a-view-versus-a-copy\n",
      "  self.obj[item] = s\n"
     ]
    }
   ],
   "source": [
    "death.iloc[:,1]=death.iloc[:,1]/death.iloc[:,0]"
   ]
  },
  {
   "cell_type": "code",
   "execution_count": 18,
   "metadata": {},
   "outputs": [],
   "source": [
    "del death['cases']"
   ]
  },
  {
   "cell_type": "code",
   "execution_count": 19,
   "metadata": {},
   "outputs": [
    {
     "data": {
      "text/plain": [
       "55"
      ]
     },
     "execution_count": 19,
     "metadata": {},
     "output_type": "execute_result"
    }
   ],
   "source": [
    "len(death)"
   ]
  },
  {
   "cell_type": "code",
   "execution_count": 20,
   "metadata": {},
   "outputs": [],
   "source": [
    "all_data=pd.concat([data,death],axis=1)"
   ]
  },
  {
   "cell_type": "code",
   "execution_count": 28,
   "metadata": {},
   "outputs": [
    {
     "data": {
      "text/html": [
       "<div>\n",
       "<style scoped>\n",
       "    .dataframe tbody tr th:only-of-type {\n",
       "        vertical-align: middle;\n",
       "    }\n",
       "\n",
       "    .dataframe tbody tr th {\n",
       "        vertical-align: top;\n",
       "    }\n",
       "\n",
       "    .dataframe thead th {\n",
       "        text-align: right;\n",
       "    }\n",
       "</style>\n",
       "<table border=\"1\" class=\"dataframe\">\n",
       "  <thead>\n",
       "    <tr style=\"text-align: right;\">\n",
       "      <th></th>\n",
       "      <th>ICU Beds</th>\n",
       "      <th>Total Population</th>\n",
       "      <th>Population Aged 60+</th>\n",
       "      <th>Percent of Population Aged 60+</th>\n",
       "      <th>Residents Aged 60+ Per Each ICU Bed</th>\n",
       "      <th>deaths</th>\n",
       "    </tr>\n",
       "  </thead>\n",
       "  <tbody>\n",
       "    <tr>\n",
       "      <th>Alabama</th>\n",
       "      <td>1533.0</td>\n",
       "      <td>4850771.0</td>\n",
       "      <td>1065625.0</td>\n",
       "      <td>0.219682</td>\n",
       "      <td>695.123940</td>\n",
       "      <td>0.034868</td>\n",
       "    </tr>\n",
       "    <tr>\n",
       "      <th>Alaska</th>\n",
       "      <td>119.0</td>\n",
       "      <td>738565.0</td>\n",
       "      <td>117047.0</td>\n",
       "      <td>0.158479</td>\n",
       "      <td>983.588235</td>\n",
       "      <td>0.020408</td>\n",
       "    </tr>\n",
       "    <tr>\n",
       "      <th>Arizona</th>\n",
       "      <td>1559.0</td>\n",
       "      <td>6809946.0</td>\n",
       "      <td>1502688.0</td>\n",
       "      <td>0.220661</td>\n",
       "      <td>963.879410</td>\n",
       "      <td>0.041245</td>\n",
       "    </tr>\n",
       "    <tr>\n",
       "      <th>Arkansas</th>\n",
       "      <td>732.0</td>\n",
       "      <td>2977944.0</td>\n",
       "      <td>655552.0</td>\n",
       "      <td>0.220136</td>\n",
       "      <td>895.562842</td>\n",
       "      <td>0.016618</td>\n",
       "    </tr>\n",
       "    <tr>\n",
       "      <th>California</th>\n",
       "      <td>7338.0</td>\n",
       "      <td>38982847.0</td>\n",
       "      <td>7292299.0</td>\n",
       "      <td>0.187064</td>\n",
       "      <td>993.772009</td>\n",
       "      <td>0.039816</td>\n",
       "    </tr>\n",
       "    <tr>\n",
       "      <th>Colorado</th>\n",
       "      <td>1095.0</td>\n",
       "      <td>5436519.0</td>\n",
       "      <td>1031196.0</td>\n",
       "      <td>0.189679</td>\n",
       "      <td>941.731507</td>\n",
       "      <td>0.051072</td>\n",
       "    </tr>\n",
       "    <tr>\n",
       "      <th>Connecticut</th>\n",
       "      <td>674.0</td>\n",
       "      <td>3594478.0</td>\n",
       "      <td>805545.0</td>\n",
       "      <td>0.224106</td>\n",
       "      <td>1195.170623</td>\n",
       "      <td>0.077394</td>\n",
       "    </tr>\n",
       "    <tr>\n",
       "      <th>Delaware</th>\n",
       "      <td>186.0</td>\n",
       "      <td>943732.0</td>\n",
       "      <td>220732.0</td>\n",
       "      <td>0.233893</td>\n",
       "      <td>1186.731183</td>\n",
       "      <td>0.030034</td>\n",
       "    </tr>\n",
       "    <tr>\n",
       "      <th>District of Columbia</th>\n",
       "      <td>314.0</td>\n",
       "      <td>672391.0</td>\n",
       "      <td>113026.0</td>\n",
       "      <td>0.168096</td>\n",
       "      <td>359.955414</td>\n",
       "      <td>0.047533</td>\n",
       "    </tr>\n",
       "    <tr>\n",
       "      <th>Florida</th>\n",
       "      <td>5604.0</td>\n",
       "      <td>20278447.0</td>\n",
       "      <td>5200132.0</td>\n",
       "      <td>0.256436</td>\n",
       "      <td>927.932191</td>\n",
       "      <td>0.033831</td>\n",
       "    </tr>\n",
       "    <tr>\n",
       "      <th>Georgia</th>\n",
       "      <td>2508.0</td>\n",
       "      <td>10201635.0</td>\n",
       "      <td>1863154.0</td>\n",
       "      <td>0.182633</td>\n",
       "      <td>742.884370</td>\n",
       "      <td>0.042232</td>\n",
       "    </tr>\n",
       "    <tr>\n",
       "      <th>Hawaii</th>\n",
       "      <td>201.0</td>\n",
       "      <td>1421658.0</td>\n",
       "      <td>326878.0</td>\n",
       "      <td>0.229927</td>\n",
       "      <td>1626.258706</td>\n",
       "      <td>0.026667</td>\n",
       "    </tr>\n",
       "    <tr>\n",
       "      <th>Idaho</th>\n",
       "      <td>314.0</td>\n",
       "      <td>1657375.0</td>\n",
       "      <td>342148.0</td>\n",
       "      <td>0.206440</td>\n",
       "      <td>1089.643312</td>\n",
       "      <td>0.032493</td>\n",
       "    </tr>\n",
       "    <tr>\n",
       "      <th>Illinois</th>\n",
       "      <td>3144.0</td>\n",
       "      <td>12854526.0</td>\n",
       "      <td>2614633.0</td>\n",
       "      <td>0.203402</td>\n",
       "      <td>831.626272</td>\n",
       "      <td>0.043415</td>\n",
       "    </tr>\n",
       "    <tr>\n",
       "      <th>Indiana</th>\n",
       "      <td>1861.0</td>\n",
       "      <td>6614418.0</td>\n",
       "      <td>1369219.0</td>\n",
       "      <td>0.207005</td>\n",
       "      <td>735.743686</td>\n",
       "      <td>0.052879</td>\n",
       "    </tr>\n",
       "    <tr>\n",
       "      <th>Iowa</th>\n",
       "      <td>545.0</td>\n",
       "      <td>3118102.0</td>\n",
       "      <td>698176.0</td>\n",
       "      <td>0.223911</td>\n",
       "      <td>1281.056881</td>\n",
       "      <td>0.021643</td>\n",
       "    </tr>\n",
       "    <tr>\n",
       "      <th>Kansas</th>\n",
       "      <td>767.0</td>\n",
       "      <td>2903820.0</td>\n",
       "      <td>600412.0</td>\n",
       "      <td>0.206766</td>\n",
       "      <td>782.805737</td>\n",
       "      <td>0.037135</td>\n",
       "    </tr>\n",
       "    <tr>\n",
       "      <th>Kentucky</th>\n",
       "      <td>1392.0</td>\n",
       "      <td>4424376.0</td>\n",
       "      <td>947950.0</td>\n",
       "      <td>0.214256</td>\n",
       "      <td>680.998563</td>\n",
       "      <td>0.052098</td>\n",
       "    </tr>\n",
       "    <tr>\n",
       "      <th>Louisiana</th>\n",
       "      <td>1289.0</td>\n",
       "      <td>4663461.0</td>\n",
       "      <td>936828.0</td>\n",
       "      <td>0.200887</td>\n",
       "      <td>726.786656</td>\n",
       "      <td>0.062694</td>\n",
       "    </tr>\n",
       "    <tr>\n",
       "      <th>Maine</th>\n",
       "      <td>256.0</td>\n",
       "      <td>1330158.0</td>\n",
       "      <td>348777.0</td>\n",
       "      <td>0.262207</td>\n",
       "      <td>1362.410156</td>\n",
       "      <td>0.049853</td>\n",
       "    </tr>\n",
       "    <tr>\n",
       "      <th>Maryland</th>\n",
       "      <td>1134.0</td>\n",
       "      <td>5996079.0</td>\n",
       "      <td>1211919.0</td>\n",
       "      <td>0.202119</td>\n",
       "      <td>1068.711640</td>\n",
       "      <td>0.044029</td>\n",
       "    </tr>\n",
       "    <tr>\n",
       "      <th>Massachusetts</th>\n",
       "      <td>1326.0</td>\n",
       "      <td>6789319.0</td>\n",
       "      <td>1471985.0</td>\n",
       "      <td>0.216809</td>\n",
       "      <td>1110.094268</td>\n",
       "      <td>0.053186</td>\n",
       "    </tr>\n",
       "    <tr>\n",
       "      <th>Michigan</th>\n",
       "      <td>2423.0</td>\n",
       "      <td>9925568.0</td>\n",
       "      <td>2227519.0</td>\n",
       "      <td>0.224422</td>\n",
       "      <td>919.322740</td>\n",
       "      <td>0.089186</td>\n",
       "    </tr>\n",
       "    <tr>\n",
       "      <th>Minnesota</th>\n",
       "      <td>1171.0</td>\n",
       "      <td>5490726.0</td>\n",
       "      <td>1140063.0</td>\n",
       "      <td>0.207634</td>\n",
       "      <td>973.580700</td>\n",
       "      <td>0.074948</td>\n",
       "    </tr>\n",
       "    <tr>\n",
       "      <th>Mississippi</th>\n",
       "      <td>824.0</td>\n",
       "      <td>2986220.0</td>\n",
       "      <td>614864.0</td>\n",
       "      <td>0.205900</td>\n",
       "      <td>746.194175</td>\n",
       "      <td>0.037578</td>\n",
       "    </tr>\n",
       "    <tr>\n",
       "      <th>Missouri</th>\n",
       "      <td>1888.0</td>\n",
       "      <td>6075300.0</td>\n",
       "      <td>1333838.0</td>\n",
       "      <td>0.219551</td>\n",
       "      <td>706.481992</td>\n",
       "      <td>0.041277</td>\n",
       "    </tr>\n",
       "    <tr>\n",
       "      <th>Montana</th>\n",
       "      <td>165.0</td>\n",
       "      <td>1029862.0</td>\n",
       "      <td>250486.0</td>\n",
       "      <td>0.243223</td>\n",
       "      <td>1518.096970</td>\n",
       "      <td>0.031180</td>\n",
       "    </tr>\n",
       "    <tr>\n",
       "      <th>Nebraska</th>\n",
       "      <td>440.0</td>\n",
       "      <td>1893921.0</td>\n",
       "      <td>391359.0</td>\n",
       "      <td>0.206640</td>\n",
       "      <td>889.452273</td>\n",
       "      <td>0.015773</td>\n",
       "    </tr>\n",
       "    <tr>\n",
       "      <th>Nevada</th>\n",
       "      <td>900.0</td>\n",
       "      <td>2887725.0</td>\n",
       "      <td>589328.0</td>\n",
       "      <td>0.204080</td>\n",
       "      <td>654.808889</td>\n",
       "      <td>0.046517</td>\n",
       "    </tr>\n",
       "    <tr>\n",
       "      <th>New Hampshire</th>\n",
       "      <td>242.0</td>\n",
       "      <td>1331848.0</td>\n",
       "      <td>312572.0</td>\n",
       "      <td>0.234690</td>\n",
       "      <td>1291.619835</td>\n",
       "      <td>0.030960</td>\n",
       "    </tr>\n",
       "    <tr>\n",
       "      <th>New Jersey</th>\n",
       "      <td>1822.0</td>\n",
       "      <td>8960161.0</td>\n",
       "      <td>1892597.0</td>\n",
       "      <td>0.211224</td>\n",
       "      <td>1038.746981</td>\n",
       "      <td>0.054358</td>\n",
       "    </tr>\n",
       "    <tr>\n",
       "      <th>New Mexico</th>\n",
       "      <td>340.0</td>\n",
       "      <td>2084828.0</td>\n",
       "      <td>459775.0</td>\n",
       "      <td>0.220534</td>\n",
       "      <td>1352.279412</td>\n",
       "      <td>0.036814</td>\n",
       "    </tr>\n",
       "    <tr>\n",
       "      <th>New York</th>\n",
       "      <td>3952.0</td>\n",
       "      <td>19798228.0</td>\n",
       "      <td>4201533.0</td>\n",
       "      <td>0.212218</td>\n",
       "      <td>1063.140941</td>\n",
       "      <td>0.059251</td>\n",
       "    </tr>\n",
       "    <tr>\n",
       "      <th>North Carolina</th>\n",
       "      <td>2227.0</td>\n",
       "      <td>10052564.0</td>\n",
       "      <td>2115334.0</td>\n",
       "      <td>0.210427</td>\n",
       "      <td>949.858105</td>\n",
       "      <td>0.036207</td>\n",
       "    </tr>\n",
       "    <tr>\n",
       "      <th>North Dakota</th>\n",
       "      <td>238.0</td>\n",
       "      <td>745475.0</td>\n",
       "      <td>151255.0</td>\n",
       "      <td>0.202897</td>\n",
       "      <td>635.525210</td>\n",
       "      <td>0.020170</td>\n",
       "    </tr>\n",
       "    <tr>\n",
       "      <th>Ohio</th>\n",
       "      <td>3314.0</td>\n",
       "      <td>11609756.0</td>\n",
       "      <td>2593757.0</td>\n",
       "      <td>0.223412</td>\n",
       "      <td>782.666566</td>\n",
       "      <td>0.046126</td>\n",
       "    </tr>\n",
       "    <tr>\n",
       "      <th>Oklahoma</th>\n",
       "      <td>1064.0</td>\n",
       "      <td>3896251.0</td>\n",
       "      <td>800259.0</td>\n",
       "      <td>0.205392</td>\n",
       "      <td>752.123120</td>\n",
       "      <td>0.060061</td>\n",
       "    </tr>\n",
       "    <tr>\n",
       "      <th>Oregon</th>\n",
       "      <td>663.0</td>\n",
       "      <td>4025127.0</td>\n",
       "      <td>928932.0</td>\n",
       "      <td>0.230783</td>\n",
       "      <td>1401.104072</td>\n",
       "      <td>0.039082</td>\n",
       "    </tr>\n",
       "    <tr>\n",
       "      <th>Pennsylvania</th>\n",
       "      <td>3169.0</td>\n",
       "      <td>12790505.0</td>\n",
       "      <td>3027054.0</td>\n",
       "      <td>0.236664</td>\n",
       "      <td>955.207952</td>\n",
       "      <td>0.044502</td>\n",
       "    </tr>\n",
       "    <tr>\n",
       "      <th>Rhode Island</th>\n",
       "      <td>279.0</td>\n",
       "      <td>1056138.0</td>\n",
       "      <td>237693.0</td>\n",
       "      <td>0.225059</td>\n",
       "      <td>851.946237</td>\n",
       "      <td>0.030228</td>\n",
       "    </tr>\n",
       "    <tr>\n",
       "      <th>South Carolina</th>\n",
       "      <td>1225.0</td>\n",
       "      <td>4893444.0</td>\n",
       "      <td>1109892.0</td>\n",
       "      <td>0.226812</td>\n",
       "      <td>906.034286</td>\n",
       "      <td>0.031534</td>\n",
       "    </tr>\n",
       "    <tr>\n",
       "      <th>South Dakota</th>\n",
       "      <td>152.0</td>\n",
       "      <td>855444.0</td>\n",
       "      <td>186396.0</td>\n",
       "      <td>0.217894</td>\n",
       "      <td>1226.289474</td>\n",
       "      <td>0.004898</td>\n",
       "    </tr>\n",
       "    <tr>\n",
       "      <th>Tennessee</th>\n",
       "      <td>2209.0</td>\n",
       "      <td>6597381.0</td>\n",
       "      <td>1419659.0</td>\n",
       "      <td>0.215185</td>\n",
       "      <td>642.670439</td>\n",
       "      <td>0.019600</td>\n",
       "    </tr>\n",
       "    <tr>\n",
       "      <th>Texas</th>\n",
       "      <td>6199.0</td>\n",
       "      <td>27419612.0</td>\n",
       "      <td>4618463.0</td>\n",
       "      <td>0.168436</td>\n",
       "      <td>745.033554</td>\n",
       "      <td>0.026926</td>\n",
       "    </tr>\n",
       "    <tr>\n",
       "      <th>Utah</th>\n",
       "      <td>565.0</td>\n",
       "      <td>2993941.0</td>\n",
       "      <td>442482.0</td>\n",
       "      <td>0.147792</td>\n",
       "      <td>783.153982</td>\n",
       "      <td>0.009679</td>\n",
       "    </tr>\n",
       "    <tr>\n",
       "      <th>Vermont</th>\n",
       "      <td>94.0</td>\n",
       "      <td>624636.0</td>\n",
       "      <td>156189.0</td>\n",
       "      <td>0.250048</td>\n",
       "      <td>1661.585106</td>\n",
       "      <td>0.054971</td>\n",
       "    </tr>\n",
       "    <tr>\n",
       "      <th>Virginia</th>\n",
       "      <td>1654.0</td>\n",
       "      <td>8365952.0</td>\n",
       "      <td>1685377.0</td>\n",
       "      <td>0.201457</td>\n",
       "      <td>1018.970375</td>\n",
       "      <td>0.033838</td>\n",
       "    </tr>\n",
       "    <tr>\n",
       "      <th>Washington</th>\n",
       "      <td>1265.0</td>\n",
       "      <td>7169967.0</td>\n",
       "      <td>1473729.0</td>\n",
       "      <td>0.205542</td>\n",
       "      <td>1165.003162</td>\n",
       "      <td>0.055612</td>\n",
       "    </tr>\n",
       "    <tr>\n",
       "      <th>West Virginia</th>\n",
       "      <td>653.0</td>\n",
       "      <td>1836843.0</td>\n",
       "      <td>469300.0</td>\n",
       "      <td>0.255493</td>\n",
       "      <td>718.683002</td>\n",
       "      <td>0.034355</td>\n",
       "    </tr>\n",
       "    <tr>\n",
       "      <th>Wisconsin</th>\n",
       "      <td>1159.0</td>\n",
       "      <td>5763217.0</td>\n",
       "      <td>1267239.0</td>\n",
       "      <td>0.219884</td>\n",
       "      <td>1093.389991</td>\n",
       "      <td>0.046210</td>\n",
       "    </tr>\n",
       "    <tr>\n",
       "      <th>Wyoming</th>\n",
       "      <td>102.0</td>\n",
       "      <td>583200.0</td>\n",
       "      <td>123584.0</td>\n",
       "      <td>0.211907</td>\n",
       "      <td>1211.607843</td>\n",
       "      <td>0.017995</td>\n",
       "    </tr>\n",
       "  </tbody>\n",
       "</table>\n",
       "</div>"
      ],
      "text/plain": [
       "                      ICU Beds  Total Population  Population Aged 60+  \\\n",
       "Alabama                 1533.0         4850771.0            1065625.0   \n",
       "Alaska                   119.0          738565.0             117047.0   \n",
       "Arizona                 1559.0         6809946.0            1502688.0   \n",
       "Arkansas                 732.0         2977944.0             655552.0   \n",
       "California              7338.0        38982847.0            7292299.0   \n",
       "Colorado                1095.0         5436519.0            1031196.0   \n",
       "Connecticut              674.0         3594478.0             805545.0   \n",
       "Delaware                 186.0          943732.0             220732.0   \n",
       "District of Columbia     314.0          672391.0             113026.0   \n",
       "Florida                 5604.0        20278447.0            5200132.0   \n",
       "Georgia                 2508.0        10201635.0            1863154.0   \n",
       "Hawaii                   201.0         1421658.0             326878.0   \n",
       "Idaho                    314.0         1657375.0             342148.0   \n",
       "Illinois                3144.0        12854526.0            2614633.0   \n",
       "Indiana                 1861.0         6614418.0            1369219.0   \n",
       "Iowa                     545.0         3118102.0             698176.0   \n",
       "Kansas                   767.0         2903820.0             600412.0   \n",
       "Kentucky                1392.0         4424376.0             947950.0   \n",
       "Louisiana               1289.0         4663461.0             936828.0   \n",
       "Maine                    256.0         1330158.0             348777.0   \n",
       "Maryland                1134.0         5996079.0            1211919.0   \n",
       "Massachusetts           1326.0         6789319.0            1471985.0   \n",
       "Michigan                2423.0         9925568.0            2227519.0   \n",
       "Minnesota               1171.0         5490726.0            1140063.0   \n",
       "Mississippi              824.0         2986220.0             614864.0   \n",
       "Missouri                1888.0         6075300.0            1333838.0   \n",
       "Montana                  165.0         1029862.0             250486.0   \n",
       "Nebraska                 440.0         1893921.0             391359.0   \n",
       "Nevada                   900.0         2887725.0             589328.0   \n",
       "New Hampshire            242.0         1331848.0             312572.0   \n",
       "New Jersey              1822.0         8960161.0            1892597.0   \n",
       "New Mexico               340.0         2084828.0             459775.0   \n",
       "New York                3952.0        19798228.0            4201533.0   \n",
       "North Carolina          2227.0        10052564.0            2115334.0   \n",
       "North Dakota             238.0          745475.0             151255.0   \n",
       "Ohio                    3314.0        11609756.0            2593757.0   \n",
       "Oklahoma                1064.0         3896251.0             800259.0   \n",
       "Oregon                   663.0         4025127.0             928932.0   \n",
       "Pennsylvania            3169.0        12790505.0            3027054.0   \n",
       "Rhode Island             279.0         1056138.0             237693.0   \n",
       "South Carolina          1225.0         4893444.0            1109892.0   \n",
       "South Dakota             152.0          855444.0             186396.0   \n",
       "Tennessee               2209.0         6597381.0            1419659.0   \n",
       "Texas                   6199.0        27419612.0            4618463.0   \n",
       "Utah                     565.0         2993941.0             442482.0   \n",
       "Vermont                   94.0          624636.0             156189.0   \n",
       "Virginia                1654.0         8365952.0            1685377.0   \n",
       "Washington              1265.0         7169967.0            1473729.0   \n",
       "West Virginia            653.0         1836843.0             469300.0   \n",
       "Wisconsin               1159.0         5763217.0            1267239.0   \n",
       "Wyoming                  102.0          583200.0             123584.0   \n",
       "\n",
       "                      Percent of Population Aged 60+  \\\n",
       "Alabama                                     0.219682   \n",
       "Alaska                                      0.158479   \n",
       "Arizona                                     0.220661   \n",
       "Arkansas                                    0.220136   \n",
       "California                                  0.187064   \n",
       "Colorado                                    0.189679   \n",
       "Connecticut                                 0.224106   \n",
       "Delaware                                    0.233893   \n",
       "District of Columbia                        0.168096   \n",
       "Florida                                     0.256436   \n",
       "Georgia                                     0.182633   \n",
       "Hawaii                                      0.229927   \n",
       "Idaho                                       0.206440   \n",
       "Illinois                                    0.203402   \n",
       "Indiana                                     0.207005   \n",
       "Iowa                                        0.223911   \n",
       "Kansas                                      0.206766   \n",
       "Kentucky                                    0.214256   \n",
       "Louisiana                                   0.200887   \n",
       "Maine                                       0.262207   \n",
       "Maryland                                    0.202119   \n",
       "Massachusetts                               0.216809   \n",
       "Michigan                                    0.224422   \n",
       "Minnesota                                   0.207634   \n",
       "Mississippi                                 0.205900   \n",
       "Missouri                                    0.219551   \n",
       "Montana                                     0.243223   \n",
       "Nebraska                                    0.206640   \n",
       "Nevada                                      0.204080   \n",
       "New Hampshire                               0.234690   \n",
       "New Jersey                                  0.211224   \n",
       "New Mexico                                  0.220534   \n",
       "New York                                    0.212218   \n",
       "North Carolina                              0.210427   \n",
       "North Dakota                                0.202897   \n",
       "Ohio                                        0.223412   \n",
       "Oklahoma                                    0.205392   \n",
       "Oregon                                      0.230783   \n",
       "Pennsylvania                                0.236664   \n",
       "Rhode Island                                0.225059   \n",
       "South Carolina                              0.226812   \n",
       "South Dakota                                0.217894   \n",
       "Tennessee                                   0.215185   \n",
       "Texas                                       0.168436   \n",
       "Utah                                        0.147792   \n",
       "Vermont                                     0.250048   \n",
       "Virginia                                    0.201457   \n",
       "Washington                                  0.205542   \n",
       "West Virginia                               0.255493   \n",
       "Wisconsin                                   0.219884   \n",
       "Wyoming                                     0.211907   \n",
       "\n",
       "                      Residents Aged 60+ Per Each ICU Bed    deaths  \n",
       "Alabama                                        695.123940  0.034868  \n",
       "Alaska                                         983.588235  0.020408  \n",
       "Arizona                                        963.879410  0.041245  \n",
       "Arkansas                                       895.562842  0.016618  \n",
       "California                                     993.772009  0.039816  \n",
       "Colorado                                       941.731507  0.051072  \n",
       "Connecticut                                   1195.170623  0.077394  \n",
       "Delaware                                      1186.731183  0.030034  \n",
       "District of Columbia                           359.955414  0.047533  \n",
       "Florida                                        927.932191  0.033831  \n",
       "Georgia                                        742.884370  0.042232  \n",
       "Hawaii                                        1626.258706  0.026667  \n",
       "Idaho                                         1089.643312  0.032493  \n",
       "Illinois                                       831.626272  0.043415  \n",
       "Indiana                                        735.743686  0.052879  \n",
       "Iowa                                          1281.056881  0.021643  \n",
       "Kansas                                         782.805737  0.037135  \n",
       "Kentucky                                       680.998563  0.052098  \n",
       "Louisiana                                      726.786656  0.062694  \n",
       "Maine                                         1362.410156  0.049853  \n",
       "Maryland                                      1068.711640  0.044029  \n",
       "Massachusetts                                 1110.094268  0.053186  \n",
       "Michigan                                       919.322740  0.089186  \n",
       "Minnesota                                      973.580700  0.074948  \n",
       "Mississippi                                    746.194175  0.037578  \n",
       "Missouri                                       706.481992  0.041277  \n",
       "Montana                                       1518.096970  0.031180  \n",
       "Nebraska                                       889.452273  0.015773  \n",
       "Nevada                                         654.808889  0.046517  \n",
       "New Hampshire                                 1291.619835  0.030960  \n",
       "New Jersey                                    1038.746981  0.054358  \n",
       "New Mexico                                    1352.279412  0.036814  \n",
       "New York                                      1063.140941  0.059251  \n",
       "North Carolina                                 949.858105  0.036207  \n",
       "North Dakota                                   635.525210  0.020170  \n",
       "Ohio                                           782.666566  0.046126  \n",
       "Oklahoma                                       752.123120  0.060061  \n",
       "Oregon                                        1401.104072  0.039082  \n",
       "Pennsylvania                                   955.207952  0.044502  \n",
       "Rhode Island                                   851.946237  0.030228  \n",
       "South Carolina                                 906.034286  0.031534  \n",
       "South Dakota                                  1226.289474  0.004898  \n",
       "Tennessee                                      642.670439  0.019600  \n",
       "Texas                                          745.033554  0.026926  \n",
       "Utah                                           783.153982  0.009679  \n",
       "Vermont                                       1661.585106  0.054971  \n",
       "Virginia                                      1018.970375  0.033838  \n",
       "Washington                                    1165.003162  0.055612  \n",
       "West Virginia                                  718.683002  0.034355  \n",
       "Wisconsin                                     1093.389991  0.046210  \n",
       "Wyoming                                       1211.607843  0.017995  "
      ]
     },
     "execution_count": 28,
     "metadata": {},
     "output_type": "execute_result"
    }
   ],
   "source": [
    "all_data"
   ]
  },
  {
   "cell_type": "code",
   "execution_count": null,
   "metadata": {},
   "outputs": [],
   "source": [
    "all_data = all_data.drop(labels = ['Guam','Northern Mariana Islands','Puerto Rico','Virgin Islands'])"
   ]
  },
  {
   "cell_type": "code",
   "execution_count": 24,
   "metadata": {},
   "outputs": [],
   "source": [
    "x = all_data['ICU Beds']\n",
    "y = all_data['Percent of Population Aged 60+']\n",
    "z = all_data['Residents Aged 60+ Per Each ICU Bed']"
   ]
  },
  {
   "cell_type": "code",
   "execution_count": 24,
   "metadata": {},
   "outputs": [],
   "source": [
    "all_data.to_csv('all_data.csv')"
   ]
  },
  {
   "cell_type": "code",
   "execution_count": 28,
   "metadata": {},
   "outputs": [
    {
     "data": {
      "text/plain": [
       "<mpl_toolkits.mplot3d.art3d.Path3DCollection at 0x11bc691d0>"
      ]
     },
     "execution_count": 28,
     "metadata": {},
     "output_type": "execute_result"
    },
    {
     "data": {
      "image/png": "[encoded data removed]",
      "text/plain": [
       "<Figure size 432x288 with 1 Axes>"
      ]
     },
     "metadata": {
      "needs_background": "light"
     },
     "output_type": "display_data"
    }
   ],
   "source": [
    "fig = plt.figure()\n",
    "ax = fig.add_subplot(111, projection='3d')\n",
    "ax.scatter(x, y, z, s=20)"
   ]
  },
  {
   "cell_type": "code",
   "execution_count": 38,
   "metadata": {},
   "outputs": [
    {
     "data": {
      "text/plain": [
       "[<matplotlib.lines.Line2D at 0x11e8b1828>]"
      ]
     },
     "execution_count": 38,
     "metadata": {},
     "output_type": "execute_result"
    },
    {
     "data": {
      "image/png": "[encoded data removed]",
      "text/plain": [
       "<Figure size 432x288 with 1 Axes>"
      ]
     },
     "metadata": {
      "needs_background": "light"
     },
     "output_type": "display_data"
    }
   ],
   "source": [
    "plt.plot(x,y,'8') ## no "
   ]
  },
  {
   "cell_type": "code",
   "execution_count": 40,
   "metadata": {},
   "outputs": [
    {
     "data": {
      "text/plain": [
       "[<matplotlib.lines.Line2D at 0x11eb926d8>]"
      ]
     },
     "execution_count": 40,
     "metadata": {},
     "output_type": "execute_result"
    },
    {
     "data": {
      "image/png": "[encoded data removed]",
      "text/plain": [
       "<Figure size 432x288 with 1 Axes>"
      ]
     },
     "metadata": {
      "needs_background": "light"
     },
     "output_type": "display_data"
    }
   ],
   "source": [
    "plt.plot(x,z,'*')  #yes"
   ]
  },
  {
   "cell_type": "code",
   "execution_count": 41,
   "metadata": {},
   "outputs": [
    {
     "data": {
      "text/plain": [
       "[<matplotlib.lines.Line2D at 0x11ea03668>]"
      ]
     },
     "execution_count": 41,
     "metadata": {},
     "output_type": "execute_result"
    },
    {
     "data": {
      "image/png": "[encoded data removed]",
      "text/plain": [
       "<Figure size 432x288 with 1 Axes>"
      ]
     },
     "metadata": {
      "needs_background": "light"
     },
     "output_type": "display_data"
    }
   ],
   "source": [
    "plt.plot(y,z,'*') #yes"
   ]
  },
  {
   "cell_type": "code",
   "execution_count": 47,
   "metadata": {},
   "outputs": [],
   "source": [
    "parameter1 = np.polyfit(x,z,deg=3)"
   ]
  },
  {
   "cell_type": "code",
   "execution_count": 48,
   "metadata": {},
   "outputs": [],
   "source": [
    "z1 = parameter1[0]*x**3+parameter1[1]*x**2+parameter1[2]*x + parameter1[3]"
   ]
  },
  {
   "cell_type": "code",
   "execution_count": 57,
   "metadata": {},
   "outputs": [
    {
     "data": {
      "text/plain": [
       "[<matplotlib.lines.Line2D at 0x11f4e0eb8>]"
      ]
     },
     "execution_count": 57,
     "metadata": {},
     "output_type": "execute_result"
    },
    {
     "data": {
      "image/png": "[encoded data removed]",
      "text/plain": [
       "<Figure size 432x288 with 1 Axes>"
      ]
     },
     "metadata": {
      "needs_background": "light"
     },
     "output_type": "display_data"
    }
   ],
   "source": [
    "plt.scatter(x,z)\n",
    "plt.plot(x,z1,color='g')"
   ]
  },
  {
   "cell_type": "code",
   "execution_count": 54,
   "metadata": {},
   "outputs": [],
   "source": []
  },
  {
   "cell_type": "code",
   "execution_count": null,
   "metadata": {},
   "outputs": [],
   "source": []
  },
  {
   "cell_type": "code",
   "execution_count": null,
   "metadata": {},
   "outputs": [],
   "source": []
  },
  {
   "cell_type": "code",
   "execution_count": null,
   "metadata": {},
   "outputs": [],
   "source": []
  },
  {
   "cell_type": "code",
   "execution_count": null,
   "metadata": {},
   "outputs": [],
   "source": []
  },
  {
   "cell_type": "code",
   "execution_count": null,
   "metadata": {},
   "outputs": [],
   "source": []
  },
  {
   "cell_type": "code",
   "execution_count": 75,
   "metadata": {},
   "outputs": [],
   "source": [
    "# linear regression"
   ]
  },
  {
   "cell_type": "code",
   "execution_count": 77,
   "metadata": {},
   "outputs": [],
   "source": [
    "x = all_data[['ICU Beds','Percent of Population Aged 60+','Residents Aged 60+ Per Each ICU Bed']]\n",
    "y = all_data['deaths']"
   ]
  },
  {
   "cell_type": "code",
   "execution_count": 78,
   "metadata": {},
   "outputs": [
    {
     "data": {
      "text/plain": [
       "LinearRegression(copy_X=True, fit_intercept=True, n_jobs=None, normalize=False)"
      ]
     },
     "execution_count": 78,
     "metadata": {},
     "output_type": "execute_result"
    }
   ],
   "source": [
    "lr = linear_model.LinearRegression()\n",
    "lr.fit(x,y)"
   ]
  },
  {
   "cell_type": "code",
   "execution_count": 79,
   "metadata": {},
   "outputs": [
    {
     "name": "stdout",
     "output_type": "stream",
     "text": [
      "[ 1.82706854e-06  1.43087567e-01 -4.87290895e-06]\n"
     ]
    }
   ],
   "source": [
    "print(lr.coef_)"
   ]
  },
  {
   "cell_type": "code",
   "execution_count": 27,
   "metadata": {},
   "outputs": [
    {
     "data": {
      "text/plain": [
       "<mpl_toolkits.mplot3d.art3d.Path3DCollection at 0x12b010ba8>"
      ]
     },
     "execution_count": 27,
     "metadata": {},
     "output_type": "execute_result"
    },
    {
     "data": {
      "image/png": "[encoded data removed]",
      "text/plain": [
       "<Figure size 432x288 with 1 Axes>"
      ]
     },
     "metadata": {
      "needs_background": "light"
     },
     "output_type": "display_data"
    }
   ],
   "source": [
    "w=all_data['deaths']\n",
    "fig = plt.figure()\n",
    "ax = fig.add_subplot(111, projection='3d')\n",
    "ax.scatter(y, z, w, s=20)"
   ]
  },
  {
   "cell_type": "code",
   "execution_count": 30,
   "metadata": {},
   "outputs": [
    {
     "data": {
      "text/plain": [
       "[<matplotlib.lines.Line2D at 0x128999278>]"
      ]
     },
     "execution_count": 30,
     "metadata": {},
     "output_type": "execute_result"
    },
    {
     "data": {
      "image/png": "[encoded data removed]",
      "text/plain": [
       "<Figure size 432x288 with 1 Axes>"
      ]
     },
     "metadata": {
      "needs_background": "light"
     },
     "output_type": "display_data"
    }
   ],
   "source": [
    "x=all_data['ICU Beds']\n",
    "y= all_data['Total Population']\n",
    "plt.plot(x,y,'*')"
   ]
  },
  {
   "cell_type": "code",
   "execution_count": 31,
   "metadata": {},
   "outputs": [
    {
     "data": {
      "text/plain": [
       "<mpl_toolkits.mplot3d.art3d.Path3DCollection at 0x1289fac88>"
      ]
     },
     "execution_count": 31,
     "metadata": {},
     "output_type": "execute_result"
    },
    {
     "data": {
      "image/png": "[encoded data removed]",
      "text/plain": [
       "<Figure size 432x288 with 1 Axes>"
      ]
     },
     "metadata": {
      "needs_background": "light"
     },
     "output_type": "display_data"
    }
   ],
   "source": [
    "fig = plt.figure()\n",
    "ax = fig.add_subplot(111, projection='3d')\n",
    "ax.scatter(x, y, w, s=20)"
   ]
  },
  {
   "cell_type": "code",
   "execution_count": 37,
   "metadata": {},
   "outputs": [
    {
     "data": {
      "text/plain": [
       "[<matplotlib.lines.Line2D at 0x12b268438>]"
      ]
     },
     "execution_count": 37,
     "metadata": {},
     "output_type": "execute_result"
    },
    {
     "data": {
      "image/png": "[encoded data removed]",
      "text/plain": [
       "<Figure size 432x288 with 1 Axes>"
      ]
     },
     "metadata": {
      "needs_background": "light"
     },
     "output_type": "display_data"
    }
   ],
   "source": [
    "parameter = np.polyfit(x,w,deg=3)\n",
    "w1 = parameter[0]*x**3+parameter[1]*x**2+parameter[2]*x + parameter[3]\n",
    "plt.scatter(x,w)\n",
    "plt.plot(x,w1,'*',color='r')"
   ]
  },
  {
   "cell_type": "code",
   "execution_count": 40,
   "metadata": {},
   "outputs": [
    {
     "data": {
      "text/plain": [
       "[<matplotlib.lines.Line2D at 0x12b46dcc0>]"
      ]
     },
     "execution_count": 40,
     "metadata": {},
     "output_type": "execute_result"
    },
    {
     "data": {
      "image/png": "[encoded data removed]",
      "text/plain": [
       "<Figure size 432x288 with 1 Axes>"
      ]
     },
     "metadata": {
      "needs_background": "light"
     },
     "output_type": "display_data"
    }
   ],
   "source": [
    "parameter1 = np.polyfit(y,w,deg=5)\n",
    "w2 = parameter1[0]*y**5+parameter1[1]*y**4+parameter1[2]*y**3+parameter1[3]*y**2+parameter1[4]*y + parameter1[5]\n",
    "plt.scatter(y,w)\n",
    "plt.plot(y,w2,'*',color='r')"
   ]
  },
  {
   "cell_type": "code",
   "execution_count": null,
   "metadata": {},
   "outputs": [],
   "source": []
  }
 ],
 "metadata": {
  "kernelspec": {
   "display_name": "Python 3",
   "language": "python",
   "name": "python3"
  },
  "language_info": {
   "codemirror_mode": {
    "name": "ipython",
    "version": 3
   },
   "file_extension": ".py",
   "mimetype": "text/x-python",
   "name": "python",
   "nbconvert_exporter": "python",
   "pygments_lexer": "ipython3",
   "version": "3.6.2"
  }
 },
 "nbformat": 4,
 "nbformat_minor": 4
}
